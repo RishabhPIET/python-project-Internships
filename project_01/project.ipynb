{
 "cells": [
  {
   "cell_type": "code",
   "execution_count": 7,
   "metadata": {},
   "outputs": [
    {
     "name": "stdout",
     "output_type": "stream",
     "text": [
      "Hello user! Greetings of the \n",
      "Please proceed to authentication\n",
      "Your password is wrong\n"
     ]
    }
   ],
   "source": [
    "#Statements to justify the work to user\n",
    "print(\"Hello user! Greetings of the \")\n",
    "print(\"Please proceed to authentication\")\n",
    "\n",
    "# user autheentication\n",
    "Username=input(\"Please Enter Username\")\n",
    "if Username=='Admin':\n",
    "    print(\"Hello Admin! Pleasse enter your password\")\n",
    "    password=input(\"Please Enter Password\")\n",
    "    if password=='Admin123':\n",
    "        print(\"Congratulations Admin ! You are Logged inn\")\n",
    "    else:\n",
    "        print(\"Your password is wrong\")\n",
    "else:\n",
    "    print(\"Your Username is wrong\")"
   ]
  },
  {
   "cell_type": "code",
   "execution_count": null,
   "metadata": {},
   "outputs": [
    {
     "name": "stdout",
     "output_type": "stream",
     "text": [
      "\n",
      "Attendance Management System\n",
      "1. Login\n",
      "12. Exit\n"
     ]
    },
    {
     "name": "stdin",
     "output_type": "stream",
     "text": [
      "Enter your choice:  1\n",
      "Enter username:  Rishabh\n",
      "Enter password:  Admin123\n"
     ]
    },
    {
     "name": "stdout",
     "output_type": "stream",
     "text": [
      "Login successful.\n",
      "\n",
      "Attendance Management System\n",
      "2. Register User\n",
      "3. Add Student\n",
      "4. View Students\n",
      "5. Update Student\n",
      "6. Delete Student\n",
      "7. Mark Attendance\n",
      "8. View Attendance\n",
      "9. View Student Attendance\n",
      "10. Generate Report\n",
      "11. Logout\n",
      "12. Exit\n"
     ]
    },
    {
     "name": "stdin",
     "output_type": "stream",
     "text": [
      "Enter your choice:  3\n",
      "Enter student ID:  102\n",
      "Enter student name:  Naitik\n"
     ]
    },
    {
     "name": "stdout",
     "output_type": "stream",
     "text": [
      "Student added successfully.\n",
      "\n",
      "Attendance Management System\n",
      "2. Register User\n",
      "3. Add Student\n",
      "4. View Students\n",
      "5. Update Student\n",
      "6. Delete Student\n",
      "7. Mark Attendance\n",
      "8. View Attendance\n",
      "9. View Student Attendance\n",
      "10. Generate Report\n",
      "11. Logout\n",
      "12. Exit\n"
     ]
    },
    {
     "name": "stdin",
     "output_type": "stream",
     "text": [
      "Enter your choice:  103\n"
     ]
    },
    {
     "name": "stdout",
     "output_type": "stream",
     "text": [
      "Invalid choice. Please try again.\n",
      "\n",
      "Attendance Management System\n",
      "2. Register User\n",
      "3. Add Student\n",
      "4. View Students\n",
      "5. Update Student\n",
      "6. Delete Student\n",
      "7. Mark Attendance\n",
      "8. View Attendance\n",
      "9. View Student Attendance\n",
      "10. Generate Report\n",
      "11. Logout\n",
      "12. Exit\n"
     ]
    },
    {
     "name": "stdin",
     "output_type": "stream",
     "text": [
      "Enter your choice:  3\n",
      "Enter student ID:  103\n",
      "Enter student name:  joel\n"
     ]
    },
    {
     "name": "stdout",
     "output_type": "stream",
     "text": [
      "Student added successfully.\n",
      "\n",
      "Attendance Management System\n",
      "2. Register User\n",
      "3. Add Student\n",
      "4. View Students\n",
      "5. Update Student\n",
      "6. Delete Student\n",
      "7. Mark Attendance\n",
      "8. View Attendance\n",
      "9. View Student Attendance\n",
      "10. Generate Report\n",
      "11. Logout\n",
      "12. Exit\n"
     ]
    },
    {
     "name": "stdin",
     "output_type": "stream",
     "text": [
      "Enter your choice:  104\n"
     ]
    },
    {
     "name": "stdout",
     "output_type": "stream",
     "text": [
      "Invalid choice. Please try again.\n",
      "\n",
      "Attendance Management System\n",
      "2. Register User\n",
      "3. Add Student\n",
      "4. View Students\n",
      "5. Update Student\n",
      "6. Delete Student\n",
      "7. Mark Attendance\n",
      "8. View Attendance\n",
      "9. View Student Attendance\n",
      "10. Generate Report\n",
      "11. Logout\n",
      "12. Exit\n"
     ]
    },
    {
     "name": "stdin",
     "output_type": "stream",
     "text": [
      "Enter your choice:  3\n",
      "Enter student ID:  104\n",
      "Enter student name:  mohar\n"
     ]
    },
    {
     "name": "stdout",
     "output_type": "stream",
     "text": [
      "Student added successfully.\n",
      "\n",
      "Attendance Management System\n",
      "2. Register User\n",
      "3. Add Student\n",
      "4. View Students\n",
      "5. Update Student\n",
      "6. Delete Student\n",
      "7. Mark Attendance\n",
      "8. View Attendance\n",
      "9. View Student Attendance\n",
      "10. Generate Report\n",
      "11. Logout\n",
      "12. Exit\n"
     ]
    },
    {
     "name": "stdin",
     "output_type": "stream",
     "text": [
      "Enter your choice:  7\n",
      "Enter date (YYYY-MM-DD):  2023-08-01\n",
      "Enter comma-separated student IDs:  102,103\n"
     ]
    },
    {
     "name": "stdout",
     "output_type": "stream",
     "text": [
      "\n",
      "Attendance Management System\n",
      "2. Register User\n",
      "3. Add Student\n",
      "4. View Students\n",
      "5. Update Student\n",
      "6. Delete Student\n",
      "7. Mark Attendance\n",
      "8. View Attendance\n",
      "9. View Student Attendance\n",
      "10. Generate Report\n",
      "11. Logout\n",
      "12. Exit\n"
     ]
    },
    {
     "name": "stdin",
     "output_type": "stream",
     "text": [
      "Enter your choice:  8\n",
      "Enter date (YYYY-MM-DD) to view attendance:  2023-08-01\n"
     ]
    },
    {
     "name": "stdout",
     "output_type": "stream",
     "text": [
      "Attendance for 2023-08-01:\n",
      "Student ID: 102 \t Name: Naitik \t Status: Present\n",
      "Student ID: 103 \t Name: joel \t Status: Present\n",
      "\n",
      "Attendance Management System\n",
      "2. Register User\n",
      "3. Add Student\n",
      "4. View Students\n",
      "5. Update Student\n",
      "6. Delete Student\n",
      "7. Mark Attendance\n",
      "8. View Attendance\n",
      "9. View Student Attendance\n",
      "10. Generate Report\n",
      "11. Logout\n",
      "12. Exit\n"
     ]
    },
    {
     "name": "stdin",
     "output_type": "stream",
     "text": [
      "Enter your choice:  10\n"
     ]
    },
    {
     "name": "stdout",
     "output_type": "stream",
     "text": [
      "Attendance Report:\n",
      "Date \t\t Present Count\n",
      "2023-08-01 \t 2\n",
      "\n",
      "Attendance Management System\n",
      "2. Register User\n",
      "3. Add Student\n",
      "4. View Students\n",
      "5. Update Student\n",
      "6. Delete Student\n",
      "7. Mark Attendance\n",
      "8. View Attendance\n",
      "9. View Student Attendance\n",
      "10. Generate Report\n",
      "11. Logout\n",
      "12. Exit\n"
     ]
    },
    {
     "name": "stdin",
     "output_type": "stream",
     "text": [
      "Enter your choice:  9\n",
      "Enter student ID to view attendance:  102\n"
     ]
    },
    {
     "name": "stdout",
     "output_type": "stream",
     "text": [
      "Attendance records for Student ID: 102\n",
      "Date: 2023-08-01 \t Status: Present\n",
      "\n",
      "Attendance Management System\n",
      "2. Register User\n",
      "3. Add Student\n",
      "4. View Students\n",
      "5. Update Student\n",
      "6. Delete Student\n",
      "7. Mark Attendance\n",
      "8. View Attendance\n",
      "9. View Student Attendance\n",
      "10. Generate Report\n",
      "11. Logout\n",
      "12. Exit\n"
     ]
    },
    {
     "name": "stdin",
     "output_type": "stream",
     "text": [
      "Enter your choice:  11\n"
     ]
    },
    {
     "name": "stdout",
     "output_type": "stream",
     "text": [
      "Logged out successfully.\n",
      "\n",
      "Attendance Management System\n",
      "1. Login\n",
      "12. Exit\n"
     ]
    }
   ],
   "source": [
    "# Attendence management system\n",
    "user={'Rishabh':'Admin123'}\n",
    "students={}\n",
    "attendece_record={}\n",
    "\n",
    "#Login and authentications\n",
    "\n",
    "def register_user(username,password):\n",
    "    if username not in user:\n",
    "        user[username]=password\n",
    "        return True\n",
    "    return False\n",
    "\n",
    "def login_user(username,password):\n",
    "    if username  in user and user[username]==password:\n",
    "        return True\n",
    "    return False\n",
    "\n",
    "\n",
    "# Manage the students\n",
    "\n",
    "def add_student(student_id,name):\n",
    "    if student_id not in students:\n",
    "        students[student_id]=name\n",
    "        return True\n",
    "    return False\n",
    "\n",
    "def view_student():\n",
    "    print(\"Student ID \\t Name\")\n",
    "    for student_id, name in students.items():\n",
    "        print(f\"{student_id} \\t\\t {name}\")\n",
    "\n",
    "def update_student(student_id):\n",
    "    if student_id in students:\n",
    "        students[student_id]=name\n",
    "        return True\n",
    "    return False\n",
    "\n",
    "def delete_student(student_id):\n",
    "    if student_id in students:\n",
    "        del students[student_id]\n",
    "        # Also remove associated attendance records\n",
    "        for date, attendance_list in attendece_record.items():\n",
    "            attendece_record[date] = [record for record in attendance_list if record['student_id'] != student_id]\n",
    "        return True\n",
    "    return False\n",
    "\n",
    "\n",
    "\n",
    "# mark attendence\n",
    "\n",
    "def mark_attendance(date, student_ids):\n",
    "    if date not in attendece_record:\n",
    "        attendece_record[date] = []\n",
    "\n",
    "    for student_id in student_ids:\n",
    "        if student_id in students:\n",
    "            attendece_record[date].append({'student_id': student_id, 'status': 'Present'})\n",
    "        else:\n",
    "            print(f\"Student with ID {student_id} does not exist.\")\n",
    "\n",
    "def view_attendance(date):\n",
    "    if date in attendece_record:\n",
    "        print(f\"Attendance for {date}:\")\n",
    "        for record in attendece_record[date]:\n",
    "            student_id = record['student_id']\n",
    "            status = record['status']\n",
    "            name = students.get(student_id, \"Unknown\")\n",
    "            print(f\"Student ID: {student_id} \\t Name: {name} \\t Status: {status}\")\n",
    "    else:\n",
    "        print(\"No attendance records for this date.\")\n",
    "\n",
    "def view_student_attendance(student_id):\n",
    "    print(f\"Attendance records for Student ID: {student_id}\")\n",
    "    for date, attendance_list in attendece_record.items():\n",
    "        for record in attendance_list:\n",
    "            if record['student_id'] == student_id:\n",
    "                status = record['status']\n",
    "                print(f\"Date: {date} \\t Status: {status}\")\n",
    "                break\n",
    "        else:\n",
    "            print(f\"No attendance record found for Student ID: {student_id}\")\n",
    "\n",
    "#  Generating Reports\n",
    "\n",
    "def main():\n",
    "    is_logged_in = False\n",
    "    while True:\n",
    "        print(\"\\nAttendance Management System\")\n",
    "        if not is_logged_in:\n",
    "            \n",
    "            print(\"1. Login\")\n",
    "        else:\n",
    "            print(\"2. Register User\")\n",
    "            print(\"3. Add Student\")\n",
    "            print(\"4. View Students\")\n",
    "            print(\"5. Update Student\")\n",
    "            print(\"6. Delete Student\")\n",
    "            print(\"7. Mark Attendance\")\n",
    "            print(\"8. View Attendance\")\n",
    "            print(\"9. View Student Attendance\")\n",
    "            print(\"10. Generate Report\")\n",
    "            print(\"11. Logout\")\n",
    "        \n",
    "        print(\"12. Exit\")\n",
    "\n",
    "        choice = int(input(\"Enter your choice: \"))\n",
    "\n",
    "        if not is_logged_in:\n",
    "            if choice == 2:\n",
    "                username = input(\"Enter username: \")\n",
    "                password = input(\"Enter password: \")\n",
    "                if register_user(username, password):\n",
    "                    print(\"User registration successful.\")\n",
    "                else:\n",
    "                    print(\"Username already exists.\")\n",
    "            elif choice == 1:\n",
    "                username = input(\"Enter username: \")\n",
    "                password = input(\"Enter password: \")\n",
    "                if login_user(username, password):\n",
    "                    is_logged_in = True  # Set is_logged_in to True on successful login\n",
    "                    print(\"Login successful.\")\n",
    "                else:\n",
    "                    print(\"Invalid username or password.\")\n",
    "        else:\n",
    "            if choice == 3:\n",
    "                student_id = input(\"Enter student ID: \")\n",
    "                name = input(\"Enter student name: \")\n",
    "                add_student(student_id, name)\n",
    "                print(\"Student added successfully.\")\n",
    "            elif choice == 4:\n",
    "                view_students()\n",
    "            elif choice == 5:\n",
    "                student_id = input(\"Enter student ID to update: \")\n",
    "                name = input(\"Enter new name: \")\n",
    "                if update_student(student_id, name):\n",
    "                    print(\"Student information updated successfully.\")\n",
    "                else:\n",
    "                    print(\"Student with specified ID not found.\")\n",
    "            elif choice == 6:\n",
    "                student_id = input(\"Enter student ID to delete: \")\n",
    "                if delete_student(student_id):\n",
    "                    print(\"Student deleted successfully.\")\n",
    "                else:\n",
    "                    print(\"Student with specified ID not found.\")\n",
    "            elif choice == 7:\n",
    "                date = input(\"Enter date (YYYY-MM-DD): \")\n",
    "                student_ids = input(\"Enter comma-separated student IDs: \").split(',')\n",
    "                mark_attendance(date, student_ids)\n",
    "            elif choice == 8:\n",
    "                date = input(\"Enter date (YYYY-MM-DD) to view attendance: \")\n",
    "                view_attendance(date)\n",
    "            elif choice == 9:\n",
    "                student_id = input(\"Enter student ID to view attendance: \")\n",
    "                view_student_attendance(student_id)\n",
    "            elif choice == 10:\n",
    "                generate_report()\n",
    "            elif choice == 11:\n",
    "                is_logged_in = False\n",
    "                print(\"Logged out successfully.\")\n",
    "            elif choice == 12:\n",
    "                print(\"Exiting the Attendance Management System.\")\n",
    "                break\n",
    "            else:\n",
    "                print(\"Invalid choice. Please try again.\")\n",
    "\n",
    "\n",
    "main()"
   ]
  },
  {
   "cell_type": "code",
   "execution_count": 8,
   "metadata": {},
   "outputs": [
    {
     "data": {
      "text/plain": [
       "True"
      ]
     },
     "execution_count": 8,
     "metadata": {},
     "output_type": "execute_result"
    }
   ],
   "source": [
    "register_user('Rishabh','admin')\n",
    "login_user('Rishabh','admin')"
   ]
  },
  {
   "cell_type": "code",
   "execution_count": 4,
   "metadata": {},
   "outputs": [
    {
     "data": {
      "text/plain": [
       "{'Rishabh': 'admin'}"
      ]
     },
     "execution_count": 4,
     "metadata": {},
     "output_type": "execute_result"
    }
   ],
   "source": [
    "user"
   ]
  },
  {
   "cell_type": "code",
   "execution_count": null,
   "metadata": {},
   "outputs": [],
   "source": []
  }
 ],
 "metadata": {
  "kernelspec": {
   "display_name": "Python 3 (ipykernel)",
   "language": "python",
   "name": "python3"
  },
  "language_info": {
   "codemirror_mode": {
    "name": "ipython",
    "version": 3
   },
   "file_extension": ".py",
   "mimetype": "text/x-python",
   "name": "python",
   "nbconvert_exporter": "python",
   "pygments_lexer": "ipython3",
   "version": "3.9.13"
  }
 },
 "nbformat": 4,
 "nbformat_minor": 4
}
