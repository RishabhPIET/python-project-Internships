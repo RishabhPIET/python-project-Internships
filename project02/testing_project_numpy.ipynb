{
 "cells": [
  {
   "cell_type": "code",
   "execution_count": 2,
   "metadata": {},
   "outputs": [
    {
     "name": "stdout",
     "output_type": "stream",
     "text": [
      "[[[[  6  20]\n",
      "   [ 14  26]\n",
      "   [  9  20]\n",
      "   [ 11  24]\n",
      "   [  6  21]\n",
      "   [ 10  30]\n",
      "   [ 14  27]]\n",
      "\n",
      "  [[ 10  28]\n",
      "   [  9  30]\n",
      "   [  6  20]\n",
      "   [-13  32]\n",
      "   [  7  27]\n",
      "   [ 11  30]\n",
      "   [ 10  21]]\n",
      "\n",
      "  [[  7  30]\n",
      "   [  6  32]\n",
      "   [ 12  20]\n",
      "   [  8  31]\n",
      "   [ 10  21]\n",
      "   [ 13  32]\n",
      "   [ 12  24]]\n",
      "\n",
      "  [[  6  22]\n",
      "   [  7  21]\n",
      "   [ 13  22]\n",
      "   [ 11  24]\n",
      "   [  7  21]\n",
      "   [  8  31]\n",
      "   [ 14  30]]]\n",
      "\n",
      "\n",
      " [[[ 15  22]\n",
      "   [ 10  28]\n",
      "   [ 11  26]\n",
      "   [ 15  22]\n",
      "   [ 11  27]\n",
      "   [  9  22]\n",
      "   [  9  21]]\n",
      "\n",
      "  [[ 14  22]\n",
      "   [ 10  30]\n",
      "   [  7  31]\n",
      "   [ 11  28]\n",
      "   [  7  30]\n",
      "   [  8  23]\n",
      "   [  7  22]]\n",
      "\n",
      "  [[ 10  26]\n",
      "   [ 10  32]\n",
      "   [  8  31]\n",
      "   [ 11  26]\n",
      "   [ 15  23]\n",
      "   [  8  21]\n",
      "   [ 15  21]]\n",
      "\n",
      "  [[ 10  21]\n",
      "   [  9  32]\n",
      "   [  9  25]\n",
      "   [  8  30]\n",
      "   [  8  22]\n",
      "   [ 13  30]\n",
      "   [  6  21]]]\n",
      "\n",
      "\n",
      " [[[  4  22]\n",
      "   [  8  20]\n",
      "   [  5  22]\n",
      "   [  3  18]\n",
      "   [  4  20]\n",
      "   [  6   2]\n",
      "   [ 20   8]]\n",
      "\n",
      "  [[  6  19]\n",
      "   [  7  22]\n",
      "   [  3  22]\n",
      "   [  6  21]\n",
      "   [  2  21]\n",
      "   [  3   3]\n",
      "   [ 19   4]]\n",
      "\n",
      "  [[  4  20]\n",
      "   [  7  21]\n",
      "   [  8  21]\n",
      "   [  3  18]\n",
      "   [  7  18]\n",
      "   [  3   3]\n",
      "   [ 20   3]]\n",
      "\n",
      "  [[  4  22]\n",
      "   [  7  21]\n",
      "   [  5  18]\n",
      "   [  7  22]\n",
      "   [  4  20]\n",
      "   [  3   5]\n",
      "   [ 18   2]]]\n",
      "\n",
      "\n",
      " [[[  7  18]\n",
      "   [  8  22]\n",
      "   [-10  21]\n",
      "   [  9  20]\n",
      "   [  8  21]\n",
      "   [ 12  71]\n",
      "   [ 21   9]]\n",
      "\n",
      "  [[ 11  20]\n",
      "   [ 11  18]\n",
      "   [ 11  19]\n",
      "   [ 12  20]\n",
      "   [ 11  19]\n",
      "   [ 11   7]\n",
      "   [ 20  10]]\n",
      "\n",
      "  [[  7  20]\n",
      "   [  9  19]\n",
      "   [ 11  22]\n",
      "   [  8  21]\n",
      "   [ 11  20]\n",
      "   [ 12  10]\n",
      "   [ 20   8]]\n",
      "\n",
      "  [[  8  21]\n",
      "   [ 12  19]\n",
      "   [ 11  19]\n",
      "   [ 11  22]\n",
      "   [ 11  20]\n",
      "   [  7  10]\n",
      "   [ 20   8]]]]\n"
     ]
    }
   ],
   "source": [
    "#problem 1\n",
    "import numpy as np\n",
    "SampleTemperature=np.array([6,20,14,26,9,20,11,24,6,21,10,30,14,27,10,28,9,30,6,20,-13,32,7,27,11,30,10,21,7,30,6,32,12,20,8,31,10,21,13,32,12,24,6,22,7,21,13,22,11,24,7,21,8,31,14,30,15,22,10,28,11,26,15,22,11,27,9,22,9,21,14,22,10,30,7,31,11,28,7,30,8,23,7,22,10,26,10,32,8,31,11,26,15,23,8,21,15,21,10,21,9,32,9,25,8,30,8,22,13,30,6,21,4,22,8,20,5,22,3,18,4,20,6,2,20,8,6,19,7,22,3,22,6,21,2,21,3,3,19,4,4,20,7,21,8,21,3,18,7,18,3,3,20,3,4,22,7,21,5,18,7,22,4,20,3,5,18,2,7,18,8,22,-10,21,9,20,8,21,12,71,21,9,11,20,11,18,11,19,12,20,11,19,11,7,20,10,7,20,9,19,11,22,8,21,11,20,12,10,20,8,8,21,12,19,11,19,11,22,11,20,7,10,20,8]).reshape(4,4,7,2)\n",
    "print(SampleTemperature)"
   ]
  },
  {
   "cell_type": "code",
   "execution_count": 3,
   "metadata": {},
   "outputs": [
    {
     "data": {
      "text/plain": [
       "4"
      ]
     },
     "execution_count": 3,
     "metadata": {},
     "output_type": "execute_result"
    }
   ],
   "source": [
    "#problem 2.1\n",
    "SampleTemperature.ndim"
   ]
  },
  {
   "cell_type": "code",
   "execution_count": 4,
   "metadata": {},
   "outputs": [
    {
     "data": {
      "text/plain": [
       "(4, 4, 7, 2)"
      ]
     },
     "execution_count": 4,
     "metadata": {},
     "output_type": "execute_result"
    }
   ],
   "source": [
    "#problem 2.2\n",
    "SampleTemperature.shape"
   ]
  },
  {
   "cell_type": "code",
   "execution_count": 5,
   "metadata": {},
   "outputs": [
    {
     "name": "stdout",
     "output_type": "stream",
     "text": [
      "[[[  6  20]\n",
      "  [ 14  26]\n",
      "  [  9  20]\n",
      "  [ 11  24]\n",
      "  [  6  21]\n",
      "  [ 10  30]\n",
      "  [ 14  27]]\n",
      "\n",
      " [[ 15  22]\n",
      "  [ 10  28]\n",
      "  [ 11  26]\n",
      "  [ 15  22]\n",
      "  [ 11  27]\n",
      "  [  9  22]\n",
      "  [  9  21]]\n",
      "\n",
      " [[  4  22]\n",
      "  [  8  20]\n",
      "  [  5  22]\n",
      "  [  3  18]\n",
      "  [  4  20]\n",
      "  [  6   2]\n",
      "  [ 20   8]]\n",
      "\n",
      " [[  7  18]\n",
      "  [  8  22]\n",
      "  [-10  21]\n",
      "  [  9  20]\n",
      "  [  8  21]\n",
      "  [ 12  71]\n",
      "  [ 21   9]]]\n"
     ]
    }
   ],
   "source": [
    "#problem 3\n",
    "print(SampleTemperature[:,0])"
   ]
  },
  {
   "cell_type": "code",
   "execution_count": 6,
   "metadata": {},
   "outputs": [
    {
     "name": "stdout",
     "output_type": "stream",
     "text": [
      "[[[14 26]\n",
      "  [ 9 30]\n",
      "  [ 6 32]\n",
      "  [ 7 21]]\n",
      "\n",
      " [[10 28]\n",
      "  [10 30]\n",
      "  [10 32]\n",
      "  [ 9 32]]\n",
      "\n",
      " [[ 8 20]\n",
      "  [ 7 22]\n",
      "  [ 7 21]\n",
      "  [ 7 21]]\n",
      "\n",
      " [[ 8 22]\n",
      "  [11 18]\n",
      "  [ 9 19]\n",
      "  [12 19]]]\n"
     ]
    }
   ],
   "source": [
    "#problem 4\n",
    "print(SampleTemperature[:,:,1])"
   ]
  },
  {
   "cell_type": "code",
   "execution_count": 9,
   "metadata": {},
   "outputs": [
    {
     "name": "stdout",
     "output_type": "stream",
     "text": [
      "[[[22 28 26 22 27 22 21]\n",
      "  [22 30 31 28 30 23 22]\n",
      "  [26 32 31 26 23 21 21]\n",
      "  [21 32 25 30 22 30 21]]\n",
      "\n",
      " [[18 22 21 20 21 71  9]\n",
      "  [20 18 19 20 19  7 10]\n",
      "  [20 19 22 21 20 10  8]\n",
      "  [21 19 19 22 20 10  8]]]\n"
     ]
    }
   ],
   "source": [
    "#problem 5\n",
    "print(SampleTemperature[1::2,:,:,1])"
   ]
  },
  {
   "cell_type": "code",
   "execution_count": 14,
   "metadata": {},
   "outputs": [
    {
     "name": "stdout",
     "output_type": "stream",
     "text": [
      "[[  6  14   9  11   6  10  14]\n",
      " [ 10   9   6 -13   7  11  10]\n",
      " [  7   6  12   8  10  13  12]\n",
      " [  6   7  13  11   7   8  14]]\n"
     ]
    }
   ],
   "source": [
    "#problem 6\n",
    "print(SampleTemperature[0,:,:,0])"
   ]
  },
  {
   "cell_type": "code",
   "execution_count": 23,
   "metadata": {},
   "outputs": [
    {
     "name": "stdout",
     "output_type": "stream",
     "text": [
      "(array([0, 0, 1, 1, 1, 2, 2, 3, 3, 3], dtype=int64), array([0, 4, 2, 3, 4, 0, 1, 0, 1, 4], dtype=int64))\n"
     ]
    }
   ],
   "source": [
    "#problem 6\n",
    "SampleTemperature2=SampleTemperature[0,:,:,0]\n",
    "print(np.where(SampleTemperature2<8))"
   ]
  },
  {
   "cell_type": "code",
   "execution_count": 20,
   "metadata": {},
   "outputs": [
    {
     "data": {
      "text/plain": [
       "array([  6,   6,   6, -13,   7,   7,   6,   6,   7,   7])"
      ]
     },
     "execution_count": 20,
     "metadata": {},
     "output_type": "execute_result"
    }
   ],
   "source": [
    "SampleTemperature2[SampleTemperature2<8]"
   ]
  },
  {
   "cell_type": "code",
   "execution_count": 19,
   "metadata": {},
   "outputs": [
    {
     "data": {
      "text/plain": [
       "1"
      ]
     },
     "execution_count": 19,
     "metadata": {},
     "output_type": "execute_result"
    }
   ],
   "source": [
    "l=[6,   6,   6, -13,   7,   7,   6,   6,   7,   7]\n",
    "l.index(6,   6,   6, -13,   7,   7,   6,   6,   7,   7)"
   ]
  },
  {
   "cell_type": "code",
   "execution_count": 24,
   "metadata": {},
   "outputs": [
    {
     "name": "stdout",
     "output_type": "stream",
     "text": [
      "week: 1 day: 1 temprature: 6\n",
      "week: 1 day: 5 temprature: 6\n",
      "week: 2 day: 3 temprature: 6\n",
      "week: 2 day: 4 temprature: -13\n",
      "week: 2 day: 5 temprature: 7\n",
      "week: 3 day: 1 temprature: 7\n",
      "week: 3 day: 2 temprature: 6\n",
      "week: 4 day: 1 temprature: 6\n",
      "week: 4 day: 2 temprature: 7\n",
      "week: 4 day: 5 temprature: 7\n"
     ]
    }
   ],
   "source": [
    "for i in range(0,4):\n",
    "    for j in range(0,7):\n",
    "        temp=SampleTemperature[0,i,j,0]\n",
    "        if np.any(temp<8):\n",
    "            print(f\"week: {i+1} day: {j+1} temprature: {temp}\")"
   ]
  },
  {
   "cell_type": "code",
   "execution_count": 25,
   "metadata": {},
   "outputs": [
    {
     "name": "stdout",
     "output_type": "stream",
     "text": [
      "[  6   6   6 -13   7   7   6   6   7   7]\n"
     ]
    }
   ],
   "source": [
    "y=SampleTemperature[0,0:4,0:7,0]\n",
    "z=SampleTemperature[0,0:4,0:7,0]<8\n",
    "print(y[z])"
   ]
  },
  {
   "cell_type": "code",
   "execution_count": null,
   "metadata": {},
   "outputs": [],
   "source": []
  }
 ],
 "metadata": {
  "kernelspec": {
   "display_name": "Python 3",
   "language": "python",
   "name": "python3"
  },
  "language_info": {
   "codemirror_mode": {
    "name": "ipython",
    "version": 3
   },
   "file_extension": ".py",
   "mimetype": "text/x-python",
   "name": "python",
   "nbconvert_exporter": "python",
   "pygments_lexer": "ipython3",
   "version": "3.9.13"
  },
  "orig_nbformat": 4
 },
 "nbformat": 4,
 "nbformat_minor": 2
}
