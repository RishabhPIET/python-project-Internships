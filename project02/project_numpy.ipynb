{
 "cells": [
  {
   "cell_type": "code",
   "execution_count": 2,
   "metadata": {},
   "outputs": [
    {
     "name": "stdout",
     "output_type": "stream",
     "text": [
      "[['MSN' 'YYYYMM' 'Value' 'Column_Order' 'Description' 'Unit']\n",
      " ['CLETPUS' '194913' '135451.32' '1'\n",
      "  'Electricity Net Generation From Coal, All Sectors'\n",
      "  'Million Kilowatthours']\n",
      " ['CLETPUS' '195013' '154519.994' '1'\n",
      "  'Electricity Net Generation From Coal, All Sectors'\n",
      "  'Million Kilowatthours']\n",
      " ...\n",
      " ['ELETPUS' '201908' '401363.186' '13'\n",
      "  'Electricity Net Generation Total (including from sources not shown), All Sectors'\n",
      "  'Million Kilowatthours']\n",
      " ['ELETPUS' '201909' '359300.603' '13'\n",
      "  'Electricity Net Generation Total (including from sources not shown), All Sectors'\n",
      "  'Million Kilowatthours']\n",
      " ['ELETPUS' '201910' '321921.812' '13'\n",
      "  'Electricity Net Generation Total (including from sources not shown), All Sectors'\n",
      "  'Million Kilowatthours']]\n"
     ]
    }
   ],
   "source": [
    "import csv\n",
    "import numpy as np\n",
    "\n",
    "\n",
    "data = []\n",
    "with open(r\"C:\\Users\\gupta\\Downloads\\MER_T07_02A-2020-02-03.csv\",'r') as csvfile:\n",
    "    file_reader = csv.reader(csvfile, delimiter=',')\n",
    "    for row in file_reader:\n",
    "        data.append(row)\n",
    "data = np.array(data)\n",
    "print(data)"
   ]
  },
  {
   "cell_type": "code",
   "execution_count": 3,
   "metadata": {},
   "outputs": [
    {
     "name": "stdout",
     "output_type": "stream",
     "text": [
      "Array Dimension: 2\n",
      "Array Shape: (8217, 6)\n",
      "Data Type: <U80\n"
     ]
    }
   ],
   "source": [
    "# problem 1\n",
    "print(\"Array Dimension:\", data.ndim)\n",
    "print(\"Array Shape:\", data.shape)\n",
    "print(\"Data Type:\", data.dtype)"
   ]
  },
  {
   "cell_type": "code",
   "execution_count": 4,
   "metadata": {},
   "outputs": [
    {
     "name": "stdout",
     "output_type": "stream",
     "text": [
      "Data in the 4th column (rows 0-9): ['1' '1' '1' '1' '1' '1' '1' '1' '1' '1']\n"
     ]
    }
   ],
   "source": [
    "# problem 2\n",
    "print(\"Data in the 4th column (rows 0-9):\", data[1:11, 3])"
   ]
  },
  {
   "cell_type": "code",
   "execution_count": 5,
   "metadata": {},
   "outputs": [
    {
     "name": "stdout",
     "output_type": "stream",
     "text": [
      "Header Row: ['MSN' 'YYYYMM' 'Value' 'Column_Order' 'Description' 'Unit']\n"
     ]
    }
   ],
   "source": [
    "# problem 3\n",
    "titles = data[0]\n",
    "print(\"Header Row:\", titles)"
   ]
  },
  {
   "cell_type": "code",
   "execution_count": 6,
   "metadata": {},
   "outputs": [
    {
     "name": "stdout",
     "output_type": "stream",
     "text": [
      "Data in the 4th column (rows 0-9): [['194913' '135451.32']\n",
      " ['195013' '154519.994']\n",
      " ['195113' '185203.657']\n",
      " ['195213' '195436.666']\n",
      " ['195313' '218846.325']\n",
      " ['195413' '239145.966']\n",
      " ['195513' '301362.698']\n",
      " ['195613' '338503.484']\n",
      " ['195713' '346386.207']\n",
      " ['195813' '344365.781']\n",
      " ['195913' '378424.21']\n",
      " ['196013' '403067.357']\n",
      " ['196113' '421870.669']\n",
      " ['196213' '450249.238']\n",
      " ['196313' '493926.719']\n",
      " ['196413' '526230.019']\n",
      " ['196513' '570925.951']\n",
      " ['196613' '613474.8']\n",
      " ['196713' '630483.363']\n",
      " ['196813' '684904.58']]\n"
     ]
    }
   ],
   "source": [
    "# problem 4\n",
    "print(\"Data in the 4th column (rows 0-9):\", data[1:21, 1:3])"
   ]
  },
  {
   "cell_type": "code",
   "execution_count": 7,
   "metadata": {},
   "outputs": [
    {
     "name": "stdout",
     "output_type": "stream",
     "text": [
      "Data from first three and last three rows:\n",
      " [['MSN' 'YYYYMM' 'Value' 'Column_Order' 'Description' 'Unit']\n",
      " ['CLETPUS' '194913' '135451.32' '1'\n",
      "  'Electricity Net Generation From Coal, All Sectors'\n",
      "  'Million Kilowatthours']\n",
      " ['CLETPUS' '195013' '154519.994' '1'\n",
      "  'Electricity Net Generation From Coal, All Sectors'\n",
      "  'Million Kilowatthours']\n",
      " ...\n",
      " ['ELETPUS' '201908' '401363.186' '13'\n",
      "  'Electricity Net Generation Total (including from sources not shown), All Sectors'\n",
      "  'Million Kilowatthours']\n",
      " ['ELETPUS' '201909' '359300.603' '13'\n",
      "  'Electricity Net Generation Total (including from sources not shown), All Sectors'\n",
      "  'Million Kilowatthours']\n",
      " ['ELETPUS' '201910' '321921.812' '13'\n",
      "  'Electricity Net Generation Total (including from sources not shown), All Sectors'\n",
      "  'Million Kilowatthours']]\n"
     ]
    }
   ],
   "source": [
    "#problem 5\n",
    "print(\"Data from first three and last three rows:\\n\", data[np.r_[:3, -3:data.shape[0]]])"
   ]
  },
  {
   "cell_type": "code",
   "execution_count": 8,
   "metadata": {},
   "outputs": [],
   "source": [
    "#problem 6\n",
    "sorted_data = data[data[:, 4].argsort()[::-1]]"
   ]
  },
  {
   "cell_type": "code",
   "execution_count": 10,
   "metadata": {},
   "outputs": [
    {
     "data": {
      "text/plain": [
       "array([['ELETPUS', '201910', '321921.812', '13',\n",
       "        'Electricity Net Generation Total (including from sources not shown), All Sectors',\n",
       "        'Million Kilowatthours'],\n",
       "       ['ELETPUS', '198701', '223040.975', '13',\n",
       "        'Electricity Net Generation Total (including from sources not shown), All Sectors',\n",
       "        'Million Kilowatthours'],\n",
       "       ['ELETPUS', '198708', '247880.76', '13',\n",
       "        'Electricity Net Generation Total (including from sources not shown), All Sectors',\n",
       "        'Million Kilowatthours'],\n",
       "       ...,\n",
       "       ['CLETPUS', '200305', '150262.977', '1',\n",
       "        'Electricity Net Generation From Coal, All Sectors',\n",
       "        'Million Kilowatthours'],\n",
       "       ['CLETPUS', '200304', '141959.981', '1',\n",
       "        'Electricity Net Generation From Coal, All Sectors',\n",
       "        'Million Kilowatthours'],\n",
       "       ['MSN', 'YYYYMM', 'Value', 'Column_Order', 'Description', 'Unit']],\n",
       "      dtype='<U80')"
      ]
     },
     "execution_count": 10,
     "metadata": {},
     "output_type": "execute_result"
    }
   ],
   "source": [
    "sorted_data"
   ]
  },
  {
   "cell_type": "code",
   "execution_count": null,
   "metadata": {},
   "outputs": [],
   "source": []
  }
 ],
 "metadata": {
  "kernelspec": {
   "display_name": "Python 3",
   "language": "python",
   "name": "python3"
  },
  "language_info": {
   "codemirror_mode": {
    "name": "ipython",
    "version": 3
   },
   "file_extension": ".py",
   "mimetype": "text/x-python",
   "name": "python",
   "nbconvert_exporter": "python",
   "pygments_lexer": "ipython3",
   "version": "3.9.13"
  },
  "orig_nbformat": 4
 },
 "nbformat": 4,
 "nbformat_minor": 2
}
