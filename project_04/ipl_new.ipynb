{
 "cells": [
  {
   "cell_type": "code",
   "execution_count": 1,
   "metadata": {},
   "outputs": [],
   "source": [
    "#import libraries\n",
    "import numpy as np\n",
    "import pandas as pd\n",
    "import matplotlib.pyplot as plt"
   ]
  },
  {
   "cell_type": "markdown",
   "metadata": {},
   "source": [
    "Now the problem statement is to build the team which is full of best possible players acording to perfomances of the player\n",
    "We know that there is the maximum squard of 25 members in a team and minimum of 18 members from which we decides our playing 11 in every match\n",
    "Here we are developing a new franchise  "
   ]
  },
  {
   "cell_type": "code",
   "execution_count": 2,
   "metadata": {},
   "outputs": [],
   "source": [
    "data=pd.read_csv(r\"C:\\Users\\gupta\\Downloads\\IPL Player Stats\\Bowling Stats\\BOWLING STATS - IPL_2016.csv\")\n",
    "data2=pd.read_csv(r\"C:\\Users\\gupta\\Downloads\\IPL Player Stats\\Bowling Stats\\BOWLING STATS - IPL_2017.csv\")\n",
    "data3=pd.read_csv(r\"C:\\Users\\gupta\\Downloads\\IPL Player Stats\\Bowling Stats\\BOWLING STATS - IPL_2018.csv\")\n",
    "data4=pd.read_csv(r\"C:\\Users\\gupta\\Downloads\\IPL Player Stats\\Bowling Stats\\BOWLING STATS - IPL_2019.csv\")\n",
    "data5=pd.read_csv(r\"C:\\Users\\gupta\\Downloads\\IPL Player Stats\\Bowling Stats\\BOWLING STATS - IPL_2020.csv\")\n",
    "data6=pd.read_csv(r\"C:\\Users\\gupta\\Downloads\\IPL Player Stats\\Bowling Stats\\BOWLING STATS - IPL_2021.csv\")\n",
    "data7=pd.read_csv(r\"C:\\Users\\gupta\\Downloads\\IPL Player Stats\\Bowling Stats\\BOWLING STATS - IPL_2022.csv\")\n",
    "data8=pd.read_csv(r\"C:\\Users\\gupta\\Downloads\\IPL Player Stats\\Batting Stats\\BATTING STATS - IPL_2016.csv\")\n",
    "data9=pd.read_csv(r\"C:\\Users\\gupta\\Downloads\\IPL Player Stats\\Batting Stats\\BATTING STATS - IPL_2017.csv\")\n",
    "data10=pd.read_csv(r\"C:\\Users\\gupta\\Downloads\\IPL Player Stats\\Batting Stats\\BATTING STATS - IPL_2018.csv\")\n",
    "data11=pd.read_csv(r\"C:\\Users\\gupta\\Downloads\\IPL Player Stats\\Batting Stats\\BATTING STATS - IPL_2019.csv\")\n",
    "data12=pd.read_csv(r\"C:\\Users\\gupta\\Downloads\\IPL Player Stats\\Batting Stats\\BATTING STATS - IPL_2020.csv\")\n",
    "data13=pd.read_csv(r\"C:\\Users\\gupta\\Downloads\\IPL Player Stats\\Batting Stats\\BATTING STATS - IPL_2021.csv\")\n",
    "data14=pd.read_csv(r\"C:\\Users\\gupta\\Downloads\\IPL Player Stats\\Batting Stats\\BATTING STATS - IPL_2022.csv\")\n"
   ]
  },
  {
   "cell_type": "markdown",
   "metadata": {},
   "source": [
    "We use above data set of bowlers and batesman excluding the alrounders because of not having the data for the alrounders\n",
    "so we concatinate the data of bowlers and batsman differngly because they both having the different components to show"
   ]
  },
  {
   "cell_type": "code",
   "execution_count": 3,
   "metadata": {},
   "outputs": [],
   "source": [
    "ipldata_bowlers=pd.concat([data,data2,data3,data4,data5,data6,data7])\n",
    "ipldata_batters=pd.concat([data8,data9,data10,data11,data12,data13,data14])"
   ]
  },
  {
   "cell_type": "code",
   "execution_count": 23,
   "metadata": {},
   "outputs": [
    {
     "name": "stderr",
     "output_type": "stream",
     "text": [
      "C:\\Users\\gupta\\AppData\\Local\\Temp\\ipykernel_22588\\483439996.py:1: FutureWarning: The default value of numeric_only in DataFrame.corr is deprecated. In a future version, it will default to False. Select only valid columns or specify the value of numeric_only to silence this warning.\n",
      "  ipldata_bowlers.corr()\n"
     ]
    },
    {
     "data": {
      "text/html": [
       "<div>\n",
       "<style scoped>\n",
       "    .dataframe tbody tr th:only-of-type {\n",
       "        vertical-align: middle;\n",
       "    }\n",
       "\n",
       "    .dataframe tbody tr th {\n",
       "        vertical-align: top;\n",
       "    }\n",
       "\n",
       "    .dataframe thead th {\n",
       "        text-align: right;\n",
       "    }\n",
       "</style>\n",
       "<table border=\"1\" class=\"dataframe\">\n",
       "  <thead>\n",
       "    <tr style=\"text-align: right;\">\n",
       "      <th></th>\n",
       "      <th>POS</th>\n",
       "      <th>Mat</th>\n",
       "      <th>Inns</th>\n",
       "      <th>Ov</th>\n",
       "      <th>Runs</th>\n",
       "      <th>Wkts</th>\n",
       "      <th>Avg</th>\n",
       "      <th>Econ</th>\n",
       "      <th>SR</th>\n",
       "      <th>4w</th>\n",
       "      <th>5w</th>\n",
       "    </tr>\n",
       "  </thead>\n",
       "  <tbody>\n",
       "    <tr>\n",
       "      <th>POS</th>\n",
       "      <td>1.000000</td>\n",
       "      <td>-0.695649</td>\n",
       "      <td>-0.838900</td>\n",
       "      <td>-0.871605</td>\n",
       "      <td>-0.850773</td>\n",
       "      <td>-0.921321</td>\n",
       "      <td>0.496889</td>\n",
       "      <td>0.376522</td>\n",
       "      <td>0.439814</td>\n",
       "      <td>-0.380672</td>\n",
       "      <td>-0.189507</td>\n",
       "    </tr>\n",
       "    <tr>\n",
       "      <th>Mat</th>\n",
       "      <td>-0.695649</td>\n",
       "      <td>1.000000</td>\n",
       "      <td>0.904504</td>\n",
       "      <td>0.818629</td>\n",
       "      <td>0.798178</td>\n",
       "      <td>0.709030</td>\n",
       "      <td>-0.161822</td>\n",
       "      <td>-0.298557</td>\n",
       "      <td>-0.095545</td>\n",
       "      <td>0.253792</td>\n",
       "      <td>0.089297</td>\n",
       "    </tr>\n",
       "    <tr>\n",
       "      <th>Inns</th>\n",
       "      <td>-0.838900</td>\n",
       "      <td>0.904504</td>\n",
       "      <td>1.000000</td>\n",
       "      <td>0.961407</td>\n",
       "      <td>0.944192</td>\n",
       "      <td>0.832776</td>\n",
       "      <td>-0.174332</td>\n",
       "      <td>-0.338213</td>\n",
       "      <td>-0.096279</td>\n",
       "      <td>0.302425</td>\n",
       "      <td>0.109563</td>\n",
       "    </tr>\n",
       "    <tr>\n",
       "      <th>Ov</th>\n",
       "      <td>-0.871605</td>\n",
       "      <td>0.818629</td>\n",
       "      <td>0.961407</td>\n",
       "      <td>1.000000</td>\n",
       "      <td>0.972969</td>\n",
       "      <td>0.883025</td>\n",
       "      <td>-0.219897</td>\n",
       "      <td>-0.358407</td>\n",
       "      <td>-0.138241</td>\n",
       "      <td>0.332569</td>\n",
       "      <td>0.123355</td>\n",
       "    </tr>\n",
       "    <tr>\n",
       "      <th>Runs</th>\n",
       "      <td>-0.850773</td>\n",
       "      <td>0.798178</td>\n",
       "      <td>0.944192</td>\n",
       "      <td>0.972969</td>\n",
       "      <td>1.000000</td>\n",
       "      <td>0.856908</td>\n",
       "      <td>-0.155936</td>\n",
       "      <td>-0.206481</td>\n",
       "      <td>-0.117666</td>\n",
       "      <td>0.334952</td>\n",
       "      <td>0.110273</td>\n",
       "    </tr>\n",
       "    <tr>\n",
       "      <th>Wkts</th>\n",
       "      <td>-0.921321</td>\n",
       "      <td>0.709030</td>\n",
       "      <td>0.832776</td>\n",
       "      <td>0.883025</td>\n",
       "      <td>0.856908</td>\n",
       "      <td>1.000000</td>\n",
       "      <td>-0.454600</td>\n",
       "      <td>-0.324088</td>\n",
       "      <td>-0.412435</td>\n",
       "      <td>0.484506</td>\n",
       "      <td>0.268489</td>\n",
       "    </tr>\n",
       "    <tr>\n",
       "      <th>Avg</th>\n",
       "      <td>0.496889</td>\n",
       "      <td>-0.161822</td>\n",
       "      <td>-0.174332</td>\n",
       "      <td>-0.219897</td>\n",
       "      <td>-0.155936</td>\n",
       "      <td>-0.454600</td>\n",
       "      <td>1.000000</td>\n",
       "      <td>0.339344</td>\n",
       "      <td>0.949438</td>\n",
       "      <td>-0.207040</td>\n",
       "      <td>-0.132415</td>\n",
       "    </tr>\n",
       "    <tr>\n",
       "      <th>Econ</th>\n",
       "      <td>0.376522</td>\n",
       "      <td>-0.298557</td>\n",
       "      <td>-0.338213</td>\n",
       "      <td>-0.358407</td>\n",
       "      <td>-0.206481</td>\n",
       "      <td>-0.324088</td>\n",
       "      <td>0.339344</td>\n",
       "      <td>1.000000</td>\n",
       "      <td>0.074825</td>\n",
       "      <td>-0.100758</td>\n",
       "      <td>-0.063128</td>\n",
       "    </tr>\n",
       "    <tr>\n",
       "      <th>SR</th>\n",
       "      <td>0.439814</td>\n",
       "      <td>-0.095545</td>\n",
       "      <td>-0.096279</td>\n",
       "      <td>-0.138241</td>\n",
       "      <td>-0.117666</td>\n",
       "      <td>-0.412435</td>\n",
       "      <td>0.949438</td>\n",
       "      <td>0.074825</td>\n",
       "      <td>1.000000</td>\n",
       "      <td>-0.205724</td>\n",
       "      <td>-0.134338</td>\n",
       "    </tr>\n",
       "    <tr>\n",
       "      <th>4w</th>\n",
       "      <td>-0.380672</td>\n",
       "      <td>0.253792</td>\n",
       "      <td>0.302425</td>\n",
       "      <td>0.332569</td>\n",
       "      <td>0.334952</td>\n",
       "      <td>0.484506</td>\n",
       "      <td>-0.207040</td>\n",
       "      <td>-0.100758</td>\n",
       "      <td>-0.205724</td>\n",
       "      <td>1.000000</td>\n",
       "      <td>0.066130</td>\n",
       "    </tr>\n",
       "    <tr>\n",
       "      <th>5w</th>\n",
       "      <td>-0.189507</td>\n",
       "      <td>0.089297</td>\n",
       "      <td>0.109563</td>\n",
       "      <td>0.123355</td>\n",
       "      <td>0.110273</td>\n",
       "      <td>0.268489</td>\n",
       "      <td>-0.132415</td>\n",
       "      <td>-0.063128</td>\n",
       "      <td>-0.134338</td>\n",
       "      <td>0.066130</td>\n",
       "      <td>1.000000</td>\n",
       "    </tr>\n",
       "  </tbody>\n",
       "</table>\n",
       "</div>"
      ],
      "text/plain": [
       "           POS       Mat      Inns        Ov      Runs      Wkts       Avg  \\\n",
       "POS   1.000000 -0.695649 -0.838900 -0.871605 -0.850773 -0.921321  0.496889   \n",
       "Mat  -0.695649  1.000000  0.904504  0.818629  0.798178  0.709030 -0.161822   \n",
       "Inns -0.838900  0.904504  1.000000  0.961407  0.944192  0.832776 -0.174332   \n",
       "Ov   -0.871605  0.818629  0.961407  1.000000  0.972969  0.883025 -0.219897   \n",
       "Runs -0.850773  0.798178  0.944192  0.972969  1.000000  0.856908 -0.155936   \n",
       "Wkts -0.921321  0.709030  0.832776  0.883025  0.856908  1.000000 -0.454600   \n",
       "Avg   0.496889 -0.161822 -0.174332 -0.219897 -0.155936 -0.454600  1.000000   \n",
       "Econ  0.376522 -0.298557 -0.338213 -0.358407 -0.206481 -0.324088  0.339344   \n",
       "SR    0.439814 -0.095545 -0.096279 -0.138241 -0.117666 -0.412435  0.949438   \n",
       "4w   -0.380672  0.253792  0.302425  0.332569  0.334952  0.484506 -0.207040   \n",
       "5w   -0.189507  0.089297  0.109563  0.123355  0.110273  0.268489 -0.132415   \n",
       "\n",
       "          Econ        SR        4w        5w  \n",
       "POS   0.376522  0.439814 -0.380672 -0.189507  \n",
       "Mat  -0.298557 -0.095545  0.253792  0.089297  \n",
       "Inns -0.338213 -0.096279  0.302425  0.109563  \n",
       "Ov   -0.358407 -0.138241  0.332569  0.123355  \n",
       "Runs -0.206481 -0.117666  0.334952  0.110273  \n",
       "Wkts -0.324088 -0.412435  0.484506  0.268489  \n",
       "Avg   0.339344  0.949438 -0.207040 -0.132415  \n",
       "Econ  1.000000  0.074825 -0.100758 -0.063128  \n",
       "SR    0.074825  1.000000 -0.205724 -0.134338  \n",
       "4w   -0.100758 -0.205724  1.000000  0.066130  \n",
       "5w   -0.063128 -0.134338  0.066130  1.000000  "
      ]
     },
     "execution_count": 23,
     "metadata": {},
     "output_type": "execute_result"
    }
   ],
   "source": [
    "ipldata_bowlers.corr()"
   ]
  },
  {
   "cell_type": "code",
   "execution_count": 4,
   "metadata": {},
   "outputs": [
    {
     "data": {
      "text/plain": [
       "2"
      ]
     },
     "execution_count": 4,
     "metadata": {},
     "output_type": "execute_result"
    }
   ],
   "source": [
    "ipldata_batters.ndim"
   ]
  },
  {
   "cell_type": "code",
   "execution_count": 5,
   "metadata": {},
   "outputs": [
    {
     "data": {
      "text/plain": [
       "2"
      ]
     },
     "execution_count": 5,
     "metadata": {},
     "output_type": "execute_result"
    }
   ],
   "source": [
    "ipldata_bowlers.ndim"
   ]
  },
  {
   "cell_type": "code",
   "execution_count": 6,
   "metadata": {},
   "outputs": [
    {
     "data": {
      "text/plain": [
       "0"
      ]
     },
     "execution_count": 6,
     "metadata": {},
     "output_type": "execute_result"
    }
   ],
   "source": [
    "ipldata_bowlers.duplicated().sum()"
   ]
  },
  {
   "cell_type": "code",
   "execution_count": 7,
   "metadata": {},
   "outputs": [
    {
     "data": {
      "text/plain": [
       "0"
      ]
     },
     "execution_count": 7,
     "metadata": {},
     "output_type": "execute_result"
    }
   ],
   "source": [
    "ipldata_batters.duplicated().sum()"
   ]
  },
  {
   "cell_type": "code",
   "execution_count": 8,
   "metadata": {},
   "outputs": [
    {
     "data": {
      "text/plain": [
       "POS       0\n",
       "Player    0\n",
       "Mat       0\n",
       "Inns      0\n",
       "NO        0\n",
       "Runs      0\n",
       "HS        0\n",
       "Avg       0\n",
       "BF        0\n",
       "SR        0\n",
       "100       0\n",
       "50        0\n",
       "4s        0\n",
       "6s        0\n",
       "dtype: int64"
      ]
     },
     "execution_count": 8,
     "metadata": {},
     "output_type": "execute_result"
    }
   ],
   "source": [
    "ipldata_batters.isnull().sum()"
   ]
  },
  {
   "cell_type": "code",
   "execution_count": 9,
   "metadata": {},
   "outputs": [
    {
     "data": {
      "text/plain": [
       "POS       0\n",
       "Player    0\n",
       "Mat       0\n",
       "Inns      0\n",
       "Ov        0\n",
       "Runs      0\n",
       "Wkts      0\n",
       "BBI       0\n",
       "Avg       0\n",
       "Econ      0\n",
       "SR        0\n",
       "4w        0\n",
       "5w        0\n",
       "dtype: int64"
      ]
     },
     "execution_count": 9,
     "metadata": {},
     "output_type": "execute_result"
    }
   ],
   "source": [
    "ipldata_bowlers.isnull().sum()"
   ]
  },
  {
   "cell_type": "markdown",
   "metadata": {},
   "source": [
    "Now we have to pick 13 batters and 12 bowlers in our team "
   ]
  },
  {
   "cell_type": "code",
   "execution_count": 10,
   "metadata": {},
   "outputs": [
    {
     "name": "stdout",
     "output_type": "stream",
     "text": [
      "<class 'pandas.core.frame.DataFrame'>\n",
      "Int64Index: 615 entries, 0 to 102\n",
      "Data columns (total 13 columns):\n",
      " #   Column  Non-Null Count  Dtype  \n",
      "---  ------  --------------  -----  \n",
      " 0   POS     615 non-null    int64  \n",
      " 1   Player  615 non-null    object \n",
      " 2   Mat     615 non-null    int64  \n",
      " 3   Inns    615 non-null    int64  \n",
      " 4   Ov      615 non-null    float64\n",
      " 5   Runs    615 non-null    int64  \n",
      " 6   Wkts    615 non-null    int64  \n",
      " 7   BBI     615 non-null    object \n",
      " 8   Avg     615 non-null    float64\n",
      " 9   Econ    615 non-null    float64\n",
      " 10  SR      615 non-null    float64\n",
      " 11  4w      615 non-null    int64  \n",
      " 12  5w      615 non-null    int64  \n",
      "dtypes: float64(4), int64(7), object(2)\n",
      "memory usage: 67.3+ KB\n"
     ]
    }
   ],
   "source": [
    "ipldata_bowlers.info()"
   ]
  },
  {
   "cell_type": "code",
   "execution_count": 11,
   "metadata": {},
   "outputs": [],
   "source": [
    "combined_data = pd.DataFrame()"
   ]
  },
  {
   "cell_type": "code",
   "execution_count": 12,
   "metadata": {},
   "outputs": [],
   "source": [
    "#filtering th data\n",
    "bowling_data= ipldata_bowlers[['Player', 'Wkts']]"
   ]
  },
  {
   "cell_type": "code",
   "execution_count": 13,
   "metadata": {},
   "outputs": [],
   "source": [
    "bowler_stats = bowling_data.groupby('Player').agg({'Wkts': 'sum'})"
   ]
  },
  {
   "cell_type": "code",
   "execution_count": 18,
   "metadata": {},
   "outputs": [
    {
     "name": "stderr",
     "output_type": "stream",
     "text": [
      "C:\\Users\\gupta\\AppData\\Local\\Temp\\ipykernel_22588\\1020350507.py:1: FutureWarning: The frame.append method is deprecated and will be removed from pandas in a future version. Use pandas.concat instead.\n",
      "  combined_data = combined_data.append(bowling_data)\n"
     ]
    }
   ],
   "source": [
    "combined_data = combined_data.append(bowling_data)"
   ]
  },
  {
   "cell_type": "code",
   "execution_count": 19,
   "metadata": {},
   "outputs": [],
   "source": [
    "bowler_wickets = combined_data.groupby('Player')['Wkts'].sum()"
   ]
  },
  {
   "cell_type": "code",
   "execution_count": 20,
   "metadata": {},
   "outputs": [],
   "source": [
    "top_bowlers = bowler_wickets.nlargest(12)"
   ]
  },
  {
   "cell_type": "code",
   "execution_count": 21,
   "metadata": {},
   "outputs": [
    {
     "data": {
      "text/plain": [
       "Player\n",
       "Jasprit Bumrah       134.0\n",
       "Yuzvendra Chahal     131.0\n",
       "Rashid Khan          112.0\n",
       "Kagiso Rabada         99.0\n",
       "Bhuvneshwar Kumar     92.0\n",
       "Mohammad Shami        91.0\n",
       "Trent Boult           83.0\n",
       "Shardul Thakur        81.0\n",
       "Dwayne Bravo          78.0\n",
       "Sunil Narine          78.0\n",
       "Sandeep Sharma        75.0\n",
       "Andre Russell         73.0\n",
       "Name: Wkts, dtype: float64"
      ]
     },
     "execution_count": 21,
     "metadata": {},
     "output_type": "execute_result"
    }
   ],
   "source": [
    "top_bowlers"
   ]
  },
  {
   "cell_type": "code",
   "execution_count": null,
   "metadata": {},
   "outputs": [],
   "source": []
  }
 ],
 "metadata": {
  "kernelspec": {
   "display_name": "Python 3",
   "language": "python",
   "name": "python3"
  },
  "language_info": {
   "codemirror_mode": {
    "name": "ipython",
    "version": 3
   },
   "file_extension": ".py",
   "mimetype": "text/x-python",
   "name": "python",
   "nbconvert_exporter": "python",
   "pygments_lexer": "ipython3",
   "version": "3.9.13"
  },
  "orig_nbformat": 4
 },
 "nbformat": 4,
 "nbformat_minor": 2
}
